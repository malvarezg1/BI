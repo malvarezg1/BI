{
 "cells": [
  {
   "cell_type": "code",
   "execution_count": 41,
   "id": "dbd47db9-0e28-4ab6-b714-557bf000b1b7",
   "metadata": {},
   "outputs": [],
   "source": [
    "#Librerías necesarias\n",
    "import pandas as pd\n",
    "pd.set_option('display.max_columns', 25) # Número máximo de columnas a mostrar\n",
    "pd.set_option('display.max_rows', 50) # Numero máximo de filas a mostar\n",
    "# Ranom seed\n",
    "import numpy as np\n",
    "np.random.seed(3301)\n",
    "\n",
    "# Seaborn\n",
    "import seaborn as sns \n",
    "\n",
    "# Matplolib\n",
    "%matplotlib inline\n",
    "import matplotlib.pyplot as plt\n",
    "\n",
    "#SKLearn\n",
    "from sklearn import preprocessing as prc\n"
   ]
  },
  {
   "cell_type": "code",
   "execution_count": 2,
   "id": "62abf91c-5d6a-4d49-bbae-f9bf8a0d53c9",
   "metadata": {},
   "outputs": [],
   "source": [
    "# Ubicacion de la base de datos\n",
    "db_location = \"data/202120_Laboratorio_1_datos_SaludAlpes_diagnosticos_dataset.csv\""
   ]
  },
  {
   "cell_type": "code",
   "execution_count": 3,
   "id": "55a02a15-448e-4960-89d5-7d6c9e4229bd",
   "metadata": {},
   "outputs": [],
   "source": [
    "# Leer los datos\n",
    "df = pd.read_csv(db_location, sep=\";\")"
   ]
  },
  {
   "cell_type": "code",
   "execution_count": 4,
   "id": "9ede3a27-e3f9-42a4-be5a-bdce8f3d1a4c",
   "metadata": {},
   "outputs": [
    {
     "data": {
      "text/plain": [
       "(768, 11)"
      ]
     },
     "execution_count": 4,
     "metadata": {},
     "output_type": "execute_result"
    }
   ],
   "source": [
    "# Dimensiones de los datos\n",
    "df.shape"
   ]
  },
  {
   "cell_type": "code",
   "execution_count": 5,
   "id": "f3bb8f3d-d8c3-427b-be76-b9e342d7c042",
   "metadata": {},
   "outputs": [
    {
     "data": {
      "text/plain": [
       "Hair color                  object\n",
       "Pregnancies                 object\n",
       "Glucose                     object\n",
       "City                        object\n",
       "BloodPressure               object\n",
       "SkinThickness               object\n",
       "Insulin                     object\n",
       "BMI                          int64\n",
       "DiabetesPedigreeFunction    object\n",
       "Age                          int64\n",
       "Outcome                     object\n",
       "dtype: object"
      ]
     },
     "execution_count": 5,
     "metadata": {},
     "output_type": "execute_result"
    }
   ],
   "source": [
    "df.dtypes"
   ]
  },
  {
   "cell_type": "code",
   "execution_count": 6,
   "id": "36c3f10c-960c-44e8-95a4-6e33e73247f9",
   "metadata": {
    "tags": []
   },
   "outputs": [
    {
     "data": {
      "text/plain": [
       "Index(['BMI', 'Age'], dtype='object')"
      ]
     },
     "execution_count": 6,
     "metadata": {},
     "output_type": "execute_result"
    }
   ],
   "source": [
    "# Seleccionar las columnas numericas\n",
    "# Error: para comparar arreglos entrada a entrada hay que usar | y &\n",
    "#number_cols = df_tracks.dtypes[df_tracks.dtypes == np.int64 or df_tracks.dtypes == np.float64].index\n",
    "number_cols = df.dtypes[(df.dtypes == np.int64) | (df.dtypes == np.float64)].index\n",
    "number_cols = df.select_dtypes(include = ['int','float']).columns\n",
    "number_cols"
   ]
  },
  {
   "cell_type": "code",
   "execution_count": 47,
   "id": "b6497e2e-7a2b-4a72-9d54-19ae87b7bd0b",
   "metadata": {},
   "outputs": [
    {
     "data": {
      "text/plain": [
       "array(['Red', 'Black', 'Blue', nan], dtype=object)"
      ]
     },
     "execution_count": 47,
     "metadata": {},
     "output_type": "execute_result"
    }
   ],
   "source": [
    "df[\"Hair color\"].unique()"
   ]
  },
  {
   "cell_type": "code",
   "execution_count": 8,
   "id": "3ff6122b-ca94-4c1e-be36-d6c353389dfd",
   "metadata": {},
   "outputs": [
    {
     "data": {
      "text/plain": [
       "array(['6', '1', '8', '0', '5', '3', '10', '2', '4', '7', '9', '11', '13',\n",
       "       '15', '17', '12', '14', '-'], dtype=object)"
      ]
     },
     "execution_count": 8,
     "metadata": {},
     "output_type": "execute_result"
    }
   ],
   "source": [
    "df[\"Pregnancies\"].unique()"
   ]
  },
  {
   "cell_type": "markdown",
   "id": "da784b8e-3c9f-4645-bf55-c7128c56ba62",
   "metadata": {},
   "source": [
    "Nos dimos cuenta que en las columnas, hay valores que deberían ser numéricos pero aparecen como objetos. En el caso de Pregnancies es porque hay valores que son '-' que en este caso asumiremos que son lo mismo que 0. "
   ]
  },
  {
   "cell_type": "code",
   "execution_count": 9,
   "id": "3c0b3fab-e3fe-45d9-a2e6-02218884a839",
   "metadata": {},
   "outputs": [
    {
     "data": {
      "text/plain": [
       "array([ 6,  1,  8,  0,  5,  3, 10,  2,  4,  7,  9, 11, 13, 15, 17, 12, 14])"
      ]
     },
     "execution_count": 9,
     "metadata": {},
     "output_type": "execute_result"
    }
   ],
   "source": [
    "df[\"Pregnancies\"] = df[\"Pregnancies\"].replace(\"-\",0)\n",
    "df[\"Pregnancies\"] = pd.to_numeric(df[\"Pregnancies\"])\n",
    "df[\"Pregnancies\"].unique()"
   ]
  },
  {
   "cell_type": "code",
   "execution_count": 10,
   "id": "2278a460-96a4-4998-9a28-5f25ed379966",
   "metadata": {},
   "outputs": [
    {
     "data": {
      "text/plain": [
       "array(['148', '85', '183', '89', '137', '116', '78', '115', '197', '125',\n",
       "       '110', '168', '139', '189', '166', '100', '118', '107', '103',\n",
       "       '126', '99', '196', '119', '143', '147', '97', '145', '117', '109',\n",
       "       '158', '88', '92', '122', '138', '102', '90', '111', '180', '133',\n",
       "       '106', '171', '159', '146', '71', '105', '101', '176', '150', '73',\n",
       "       '187', '84', '44', '141', '114', '95', '129', '79', '0', '62',\n",
       "       '131', '112', '113', '74', '83', '136', '80', '123', '81', '134',\n",
       "       '142', '144', '93', '163', '151', '96', '155', '76', '160', '124',\n",
       "       '162', '132', '120', '173', '170', '128', '108', '154', '57',\n",
       "       '156', '153', '188', '152', '104', '87', '75', '179', '130', '194',\n",
       "       '181', '135', '184', '140', '177', '164', '91', '165', '86', '193',\n",
       "       '191', '161', '167', '77', '182', '157', '178', '61', '98', '127',\n",
       "       '82', '72', '172', '94', '175', '195', '68', '186', '198', '121',\n",
       "       '-', '67', '174', '199', '56', '169', '149', '65', '190'],\n",
       "      dtype=object)"
      ]
     },
     "execution_count": 10,
     "metadata": {},
     "output_type": "execute_result"
    }
   ],
   "source": [
    "df[\"Glucose\"].unique()"
   ]
  },
  {
   "cell_type": "markdown",
   "id": "5ee4dfa1-dcf6-440d-8029-c8205d640ff1",
   "metadata": {},
   "source": [
    "Después de darnos "
   ]
  },
  {
   "cell_type": "code",
   "execution_count": 11,
   "id": "9a6c45bc-997c-48bf-98ad-d271de38517f",
   "metadata": {},
   "outputs": [],
   "source": [
    "df[\"Glucose\"] = pd.to_numeric(df[\"Glucose\"], errors = \"coerce\")"
   ]
  },
  {
   "cell_type": "code",
   "execution_count": 12,
   "id": "ee91fa4a-0649-4a35-b778-de324a5c0583",
   "metadata": {},
   "outputs": [
    {
     "data": {
      "text/plain": [
       "New York    767\n",
       "-             1\n",
       "Name: City, dtype: int64"
      ]
     },
     "execution_count": 12,
     "metadata": {},
     "output_type": "execute_result"
    }
   ],
   "source": [
    "df[\"City\"].value_counts()"
   ]
  },
  {
   "cell_type": "markdown",
   "id": "800ec0d3-1448-483e-a7ff-966b84fa6bb5",
   "metadata": {},
   "source": [
    "Tomamos la decisión de eliminar la columna de ciudad, ya que todos los valores son New York, y por lo tanto no es una columna con valores relevantes para el diagnóstico de pacientes con diabetes. "
   ]
  },
  {
   "cell_type": "code",
   "execution_count": 13,
   "id": "e1907111-368a-49fb-a44e-8c8f29af8a4b",
   "metadata": {},
   "outputs": [],
   "source": [
    "del df[\"City\"]"
   ]
  },
  {
   "cell_type": "code",
   "execution_count": 14,
   "id": "8b1f3426-a1e7-4dea-9eee-f6b325a373fa",
   "metadata": {},
   "outputs": [
    {
     "data": {
      "text/plain": [
       "array(['72', '66', '64', '40', '74', '50', '0', '70', '96', '92', '80',\n",
       "       '60', '84', '30', '88', '90', '94', '76', '82', '75', '58', '78',\n",
       "       '68', '110', '56', '62', '85', '86', '48', '44', '65', '108', '55',\n",
       "       '122', '54', '52', '98', '104', '95', '46', '102', '100', '61',\n",
       "       '-', '24', '38', '106', '114'], dtype=object)"
      ]
     },
     "execution_count": 14,
     "metadata": {},
     "output_type": "execute_result"
    }
   ],
   "source": [
    "df[\"BloodPressure\"].unique()"
   ]
  },
  {
   "cell_type": "code",
   "execution_count": 15,
   "id": "0c1cd7d3-0394-42fc-b5c4-c3d8fcb9eaec",
   "metadata": {},
   "outputs": [],
   "source": [
    "df[\"BloodPressure\"] = pd.to_numeric(df[\"BloodPressure\"], errors = \"coerce\")\n",
    "df[\"BloodPressure\"] = df[\"BloodPressure\"].replace(0,np.nan)"
   ]
  },
  {
   "cell_type": "code",
   "execution_count": 16,
   "id": "ea1fda38-d3ae-4949-8d9b-ac0d6832e694",
   "metadata": {},
   "outputs": [
    {
     "data": {
      "text/plain": [
       "0     226\n",
       "32     31\n",
       "30     27\n",
       "27     23\n",
       "23     22\n",
       "     ... \n",
       "99      1\n",
       "-       1\n",
       "63      1\n",
       "51      1\n",
       "56      1\n",
       "Name: SkinThickness, Length: 52, dtype: int64"
      ]
     },
     "execution_count": 16,
     "metadata": {},
     "output_type": "execute_result"
    }
   ],
   "source": [
    "df[\"SkinThickness\"].value_counts()"
   ]
  },
  {
   "cell_type": "code",
   "execution_count": 38,
   "id": "2899cef5-dc56-415b-8c2e-7957494269e6",
   "metadata": {},
   "outputs": [],
   "source": [
    "df[\"SkinThickness\"] = pd.to_numeric(df[\"SkinThickness\"], errors = \"coerce\")"
   ]
  },
  {
   "cell_type": "code",
   "execution_count": 17,
   "id": "104fce3a-7f96-4c98-903d-9b1f947dd04b",
   "metadata": {},
   "outputs": [
    {
     "data": {
      "text/plain": [
       "0      373\n",
       "105     11\n",
       "140      9\n",
       "130      9\n",
       "120      8\n",
       "      ... \n",
       "270      1\n",
       "310      1\n",
       "478      1\n",
       "545      1\n",
       "321      1\n",
       "Name: Insulin, Length: 187, dtype: int64"
      ]
     },
     "execution_count": 17,
     "metadata": {},
     "output_type": "execute_result"
    }
   ],
   "source": [
    "df[\"Insulin\"].value_counts()"
   ]
  },
  {
   "cell_type": "code",
   "execution_count": 18,
   "id": "d86cc02d-9bf1-413d-82da-7050bb8ef13b",
   "metadata": {},
   "outputs": [],
   "source": [
    "df[\"Insulin\"] = pd.to_numeric(df[\"Insulin\"], errors = \"coerce\")"
   ]
  },
  {
   "cell_type": "code",
   "execution_count": 19,
   "id": "ddfb1e64-dfbe-496e-869d-c3834f558362",
   "metadata": {},
   "outputs": [
    {
     "data": {
      "text/plain": [
       "array([  0.,  94., 168.,  88., 543., 846., 175., 230.,  83.,  96., 235.,\n",
       "       146., 115., 140., 110., 245.,  54., 192., 207.,  70., 240.,  82.,\n",
       "        36.,  23., 300., 342., 304., 142., 128.,  38., 100.,  90., 270.,\n",
       "        71., 125., 176.,  48.,  64., 228.,  76., 220.,  40., 152.,  18.,\n",
       "       135., 495.,  37.,  51.,  99., 145., 225.,  49.,  50.,  92., 325.,\n",
       "        63., 284., 119., 204., 155., 485.,  53., 114., 105., 285., 156.,\n",
       "        78., 130.,  55.,  58., 160., 210., 318.,  44., 190., 280.,  87.,\n",
       "       271., 129., 120., 478.,  56.,  32., 744., 370.,  45., 194., 680.,\n",
       "       402., 258., 375., 150.,  67.,  57., 116., 278., 122., 545.,  75.,\n",
       "        74., 182., 360., 215., 184.,  42., 132., 148., 180., 205.,  85.,\n",
       "       231.,  29.,  68.,  52., 255., 171.,  73., 108.,  43., 167., 249.,\n",
       "       293.,  66., 465.,  89., 158.,  84.,  72.,  59.,  81., 196., 415.,\n",
       "       275., 165., 579., 310.,  61., 474., 170., 277.,  60.,  14.,  95.,\n",
       "       237., 191., 328., 250., 480., 265., 193.,  79.,  86., 326., 188.,\n",
       "       106.,  65., 166., 274.,  77., 126., 330.,  nan, 600., 185.,  25.,\n",
       "        41., 272., 321., 144.,  15., 183.,  91.,  46., 440., 159., 540.,\n",
       "       200., 335., 387.,  22., 291., 392., 178., 127., 510.,  16., 112.])"
      ]
     },
     "execution_count": 19,
     "metadata": {},
     "output_type": "execute_result"
    }
   ],
   "source": [
    "df[\"Insulin\"].unique()"
   ]
  },
  {
   "cell_type": "code",
   "execution_count": 20,
   "id": "443858e8-fd7a-445c-8c76-d800ae27adda",
   "metadata": {},
   "outputs": [
    {
     "data": {
      "text/plain": [
       "32     13\n",
       "316    12\n",
       "312    12\n",
       "0      11\n",
       "324    10\n",
       "       ..\n",
       "311     1\n",
       "307     1\n",
       "303     1\n",
       "302     1\n",
       "671     1\n",
       "Name: BMI, Length: 248, dtype: int64"
      ]
     },
     "execution_count": 20,
     "metadata": {},
     "output_type": "execute_result"
    }
   ],
   "source": [
    "df[\"BMI\"].value_counts()"
   ]
  },
  {
   "cell_type": "code",
   "execution_count": 21,
   "id": "37e09195-a10b-4d84-8319-395aeec11272",
   "metadata": {},
   "outputs": [],
   "source": [
    "df[\"BMI\"] = df[\"BMI\"].replace(0,np.nan)"
   ]
  },
  {
   "cell_type": "code",
   "execution_count": 22,
   "id": "fcfc2ad7-9f5c-4bb6-987a-f47d1d13dfdf",
   "metadata": {},
   "outputs": [
    {
     "data": {
      "text/plain": [
       "count     768\n",
       "unique    514\n",
       "top       254\n",
       "freq        6\n",
       "Name: DiabetesPedigreeFunction, dtype: object"
      ]
     },
     "execution_count": 22,
     "metadata": {},
     "output_type": "execute_result"
    }
   ],
   "source": [
    "df[\"DiabetesPedigreeFunction\"].describe()"
   ]
  },
  {
   "cell_type": "code",
   "execution_count": 23,
   "id": "ab50923e-39fe-4467-9c9a-db5dbde7d851",
   "metadata": {},
   "outputs": [],
   "source": [
    "df[\"DiabetesPedigreeFunction\"] = pd.to_numeric(df[\"DiabetesPedigreeFunction\"], errors = \"coerce\")"
   ]
  },
  {
   "cell_type": "code",
   "execution_count": 24,
   "id": "02478413-cda6-45a7-a4f8-bbd8ebfeff1c",
   "metadata": {},
   "outputs": [
    {
     "data": {
      "text/plain": [
       "count     768.000000\n",
       "mean       38.011719\n",
       "std       117.825600\n",
       "min        21.000000\n",
       "25%        24.000000\n",
       "50%        29.000000\n",
       "75%        41.000000\n",
       "max      3256.000000\n",
       "Name: Age, dtype: float64"
      ]
     },
     "execution_count": 24,
     "metadata": {},
     "output_type": "execute_result"
    }
   ],
   "source": [
    "df[\"Age\"].describe()"
   ]
  },
  {
   "cell_type": "code",
   "execution_count": 28,
   "id": "89511153-1c2b-4c90-998e-47757b338d60",
   "metadata": {},
   "outputs": [
    {
     "data": {
      "text/plain": [
       "22.0    72\n",
       "21.0    61\n",
       "25.0    48\n",
       "24.0    46\n",
       "23.0    38\n",
       "        ..\n",
       "70.0     1\n",
       "81.0     1\n",
       "68.0     1\n",
       "72.0     1\n",
       "64.0     1\n",
       "Name: Age, Length: 52, dtype: int64"
      ]
     },
     "execution_count": 28,
     "metadata": {},
     "output_type": "execute_result"
    }
   ],
   "source": [
    "df[\"Age\"].value_counts()"
   ]
  },
  {
   "cell_type": "code",
   "execution_count": 27,
   "id": "3437a8d3-1e6a-4e11-8f6b-00525d147074",
   "metadata": {},
   "outputs": [],
   "source": [
    "df.loc[df[\"Age\"] > 82] = np.nan"
   ]
  },
  {
   "cell_type": "code",
   "execution_count": 35,
   "id": "d2230205-a612-4fe7-908b-41fffa4e664b",
   "metadata": {},
   "outputs": [
    {
     "data": {
      "text/plain": [
       "0    0.649673\n",
       "1    0.350327\n",
       "Name: Outcome, dtype: float64"
      ]
     },
     "execution_count": 35,
     "metadata": {},
     "output_type": "execute_result"
    }
   ],
   "source": [
    "df[\"Outcome\"].value_counts(normalize = True)"
   ]
  },
  {
   "cell_type": "code",
   "execution_count": 34,
   "id": "2825737d-d204-4e02-86e2-3f573bfff1b7",
   "metadata": {},
   "outputs": [],
   "source": [
    "df[\"Outcome\"] = df[\"Outcome\"].replace(\"-\",np.nan)"
   ]
  },
  {
   "cell_type": "code",
   "execution_count": 50,
   "id": "29a94f45-f884-4b75-b7c4-5ae3fab1e691",
   "metadata": {},
   "outputs": [],
   "source": [
    "df = df.dropna()"
   ]
  },
  {
   "cell_type": "code",
   "execution_count": 51,
   "id": "9ce5edef-60b9-4d55-a304-603d6c56005d",
   "metadata": {},
   "outputs": [
    {
     "data": {
      "text/html": [
       "<div>\n",
       "<style scoped>\n",
       "    .dataframe tbody tr th:only-of-type {\n",
       "        vertical-align: middle;\n",
       "    }\n",
       "\n",
       "    .dataframe tbody tr th {\n",
       "        vertical-align: top;\n",
       "    }\n",
       "\n",
       "    .dataframe thead th {\n",
       "        text-align: right;\n",
       "    }\n",
       "</style>\n",
       "<table border=\"1\" class=\"dataframe\">\n",
       "  <thead>\n",
       "    <tr style=\"text-align: right;\">\n",
       "      <th></th>\n",
       "      <th>Pregnancies</th>\n",
       "      <th>Glucose</th>\n",
       "      <th>BloodPressure</th>\n",
       "      <th>SkinThickness</th>\n",
       "      <th>Insulin</th>\n",
       "      <th>BMI</th>\n",
       "      <th>DiabetesPedigreeFunction</th>\n",
       "      <th>Age</th>\n",
       "    </tr>\n",
       "  </thead>\n",
       "  <tbody>\n",
       "    <tr>\n",
       "      <th>count</th>\n",
       "      <td>726.000000</td>\n",
       "      <td>726.000000</td>\n",
       "      <td>726.000000</td>\n",
       "      <td>726.000000</td>\n",
       "      <td>726.000000</td>\n",
       "      <td>726.000000</td>\n",
       "      <td>726.000000</td>\n",
       "      <td>726.000000</td>\n",
       "    </tr>\n",
       "    <tr>\n",
       "      <th>mean</th>\n",
       "      <td>3.860882</td>\n",
       "      <td>121.132231</td>\n",
       "      <td>72.393939</td>\n",
       "      <td>21.550964</td>\n",
       "      <td>84.173554</td>\n",
       "      <td>294.617080</td>\n",
       "      <td>436.257576</td>\n",
       "      <td>33.340220</td>\n",
       "    </tr>\n",
       "    <tr>\n",
       "      <th>std</th>\n",
       "      <td>3.357534</td>\n",
       "      <td>32.293424</td>\n",
       "      <td>12.385271</td>\n",
       "      <td>15.698874</td>\n",
       "      <td>116.961061</td>\n",
       "      <td>111.174653</td>\n",
       "      <td>335.754678</td>\n",
       "      <td>11.755144</td>\n",
       "    </tr>\n",
       "    <tr>\n",
       "      <th>min</th>\n",
       "      <td>0.000000</td>\n",
       "      <td>0.000000</td>\n",
       "      <td>24.000000</td>\n",
       "      <td>0.000000</td>\n",
       "      <td>0.000000</td>\n",
       "      <td>20.000000</td>\n",
       "      <td>1.000000</td>\n",
       "      <td>21.000000</td>\n",
       "    </tr>\n",
       "    <tr>\n",
       "      <th>25%</th>\n",
       "      <td>1.000000</td>\n",
       "      <td>99.000000</td>\n",
       "      <td>64.000000</td>\n",
       "      <td>0.000000</td>\n",
       "      <td>0.000000</td>\n",
       "      <td>255.000000</td>\n",
       "      <td>207.000000</td>\n",
       "      <td>24.000000</td>\n",
       "    </tr>\n",
       "    <tr>\n",
       "      <th>50%</th>\n",
       "      <td>3.000000</td>\n",
       "      <td>117.000000</td>\n",
       "      <td>72.000000</td>\n",
       "      <td>24.000000</td>\n",
       "      <td>47.000000</td>\n",
       "      <td>312.000000</td>\n",
       "      <td>344.500000</td>\n",
       "      <td>29.000000</td>\n",
       "    </tr>\n",
       "    <tr>\n",
       "      <th>75%</th>\n",
       "      <td>6.000000</td>\n",
       "      <td>141.750000</td>\n",
       "      <td>80.000000</td>\n",
       "      <td>33.000000</td>\n",
       "      <td>130.000000</td>\n",
       "      <td>359.000000</td>\n",
       "      <td>597.750000</td>\n",
       "      <td>41.000000</td>\n",
       "    </tr>\n",
       "    <tr>\n",
       "      <th>max</th>\n",
       "      <td>17.000000</td>\n",
       "      <td>199.000000</td>\n",
       "      <td>122.000000</td>\n",
       "      <td>99.000000</td>\n",
       "      <td>846.000000</td>\n",
       "      <td>671.000000</td>\n",
       "      <td>2329.000000</td>\n",
       "      <td>81.000000</td>\n",
       "    </tr>\n",
       "  </tbody>\n",
       "</table>\n",
       "</div>"
      ],
      "text/plain": [
       "       Pregnancies     Glucose  BloodPressure  SkinThickness     Insulin  \\\n",
       "count   726.000000  726.000000     726.000000     726.000000  726.000000   \n",
       "mean      3.860882  121.132231      72.393939      21.550964   84.173554   \n",
       "std       3.357534   32.293424      12.385271      15.698874  116.961061   \n",
       "min       0.000000    0.000000      24.000000       0.000000    0.000000   \n",
       "25%       1.000000   99.000000      64.000000       0.000000    0.000000   \n",
       "50%       3.000000  117.000000      72.000000      24.000000   47.000000   \n",
       "75%       6.000000  141.750000      80.000000      33.000000  130.000000   \n",
       "max      17.000000  199.000000     122.000000      99.000000  846.000000   \n",
       "\n",
       "              BMI  DiabetesPedigreeFunction         Age  \n",
       "count  726.000000                726.000000  726.000000  \n",
       "mean   294.617080                436.257576   33.340220  \n",
       "std    111.174653                335.754678   11.755144  \n",
       "min     20.000000                  1.000000   21.000000  \n",
       "25%    255.000000                207.000000   24.000000  \n",
       "50%    312.000000                344.500000   29.000000  \n",
       "75%    359.000000                597.750000   41.000000  \n",
       "max    671.000000               2329.000000   81.000000  "
      ]
     },
     "execution_count": 51,
     "metadata": {},
     "output_type": "execute_result"
    }
   ],
   "source": [
    "df.describe()"
   ]
  },
  {
   "cell_type": "code",
   "execution_count": null,
   "id": "2eec28b8-dd47-4752-85b9-fb15cff24b8c",
   "metadata": {},
   "outputs": [],
   "source": [
    ">>> le = preprocessing.LabelEncoder()\n",
    ">>> le.fit([1, 2, 2, 6])\n",
    "LabelEncoder()\n",
    ">>> le.classes_\n",
    "array([1, 2, 6])\n",
    ">>> le.transform([1, 1, 2, 6])\n",
    "array([0, 0, 1, 2]...)\n",
    ">>> le.inverse_transform([0, 0, 1, 2])\n",
    "array([1, 1, 2, 6])"
   ]
  },
  {
   "cell_type": "code",
   "execution_count": 52,
   "id": "8348902a-367f-4bec-bc38-ed0a5b2f0294",
   "metadata": {},
   "outputs": [
    {
     "data": {
      "text/plain": [
       "LabelEncoder()"
      ]
     },
     "execution_count": 52,
     "metadata": {},
     "output_type": "execute_result"
    }
   ],
   "source": [
    "le = prc.LabelEncoder()\n",
    "le.fit(df[\"Hair color\"])"
   ]
  },
  {
   "cell_type": "code",
   "execution_count": 54,
   "id": "7d3225af-6ef0-4979-8bc6-19864ede6de1",
   "metadata": {},
   "outputs": [
    {
     "data": {
      "text/plain": [
       "array(['Black', 'Blue', 'Red'], dtype=object)"
      ]
     },
     "execution_count": 54,
     "metadata": {},
     "output_type": "execute_result"
    }
   ],
   "source": [
    "le.classes_"
   ]
  },
  {
   "cell_type": "code",
   "execution_count": 56,
   "id": "f31e33c0-1c8a-4f64-92b5-9dd96861d930",
   "metadata": {},
   "outputs": [],
   "source": [
    "df[\"Hair color\"] = le.fit_transform(df[\"Hair color\"])"
   ]
  },
  {
   "cell_type": "code",
   "execution_count": 57,
   "id": "97c0d5a9-f65b-4e95-81d2-bebb5777c96f",
   "metadata": {},
   "outputs": [
    {
     "data": {
      "text/html": [
       "<div>\n",
       "<style scoped>\n",
       "    .dataframe tbody tr th:only-of-type {\n",
       "        vertical-align: middle;\n",
       "    }\n",
       "\n",
       "    .dataframe tbody tr th {\n",
       "        vertical-align: top;\n",
       "    }\n",
       "\n",
       "    .dataframe thead th {\n",
       "        text-align: right;\n",
       "    }\n",
       "</style>\n",
       "<table border=\"1\" class=\"dataframe\">\n",
       "  <thead>\n",
       "    <tr style=\"text-align: right;\">\n",
       "      <th></th>\n",
       "      <th>Hair color</th>\n",
       "      <th>Pregnancies</th>\n",
       "      <th>Glucose</th>\n",
       "      <th>BloodPressure</th>\n",
       "      <th>SkinThickness</th>\n",
       "      <th>Insulin</th>\n",
       "      <th>BMI</th>\n",
       "      <th>DiabetesPedigreeFunction</th>\n",
       "      <th>Age</th>\n",
       "      <th>Outcome</th>\n",
       "    </tr>\n",
       "  </thead>\n",
       "  <tbody>\n",
       "    <tr>\n",
       "      <th>0</th>\n",
       "      <td>2</td>\n",
       "      <td>6.0</td>\n",
       "      <td>148.0</td>\n",
       "      <td>72.0</td>\n",
       "      <td>35.0</td>\n",
       "      <td>0.0</td>\n",
       "      <td>336.0</td>\n",
       "      <td>627.0</td>\n",
       "      <td>50.0</td>\n",
       "      <td>1</td>\n",
       "    </tr>\n",
       "    <tr>\n",
       "      <th>1</th>\n",
       "      <td>0</td>\n",
       "      <td>1.0</td>\n",
       "      <td>85.0</td>\n",
       "      <td>66.0</td>\n",
       "      <td>29.0</td>\n",
       "      <td>0.0</td>\n",
       "      <td>266.0</td>\n",
       "      <td>351.0</td>\n",
       "      <td>31.0</td>\n",
       "      <td>0</td>\n",
       "    </tr>\n",
       "    <tr>\n",
       "      <th>2</th>\n",
       "      <td>2</td>\n",
       "      <td>8.0</td>\n",
       "      <td>183.0</td>\n",
       "      <td>64.0</td>\n",
       "      <td>0.0</td>\n",
       "      <td>0.0</td>\n",
       "      <td>233.0</td>\n",
       "      <td>672.0</td>\n",
       "      <td>32.0</td>\n",
       "      <td>1</td>\n",
       "    </tr>\n",
       "    <tr>\n",
       "      <th>3</th>\n",
       "      <td>0</td>\n",
       "      <td>1.0</td>\n",
       "      <td>89.0</td>\n",
       "      <td>66.0</td>\n",
       "      <td>23.0</td>\n",
       "      <td>94.0</td>\n",
       "      <td>281.0</td>\n",
       "      <td>167.0</td>\n",
       "      <td>21.0</td>\n",
       "      <td>0</td>\n",
       "    </tr>\n",
       "    <tr>\n",
       "      <th>4</th>\n",
       "      <td>0</td>\n",
       "      <td>0.0</td>\n",
       "      <td>137.0</td>\n",
       "      <td>40.0</td>\n",
       "      <td>35.0</td>\n",
       "      <td>168.0</td>\n",
       "      <td>431.0</td>\n",
       "      <td>2288.0</td>\n",
       "      <td>33.0</td>\n",
       "      <td>1</td>\n",
       "    </tr>\n",
       "    <tr>\n",
       "      <th>...</th>\n",
       "      <td>...</td>\n",
       "      <td>...</td>\n",
       "      <td>...</td>\n",
       "      <td>...</td>\n",
       "      <td>...</td>\n",
       "      <td>...</td>\n",
       "      <td>...</td>\n",
       "      <td>...</td>\n",
       "      <td>...</td>\n",
       "      <td>...</td>\n",
       "    </tr>\n",
       "    <tr>\n",
       "      <th>763</th>\n",
       "      <td>0</td>\n",
       "      <td>10.0</td>\n",
       "      <td>101.0</td>\n",
       "      <td>76.0</td>\n",
       "      <td>48.0</td>\n",
       "      <td>180.0</td>\n",
       "      <td>329.0</td>\n",
       "      <td>171.0</td>\n",
       "      <td>63.0</td>\n",
       "      <td>0</td>\n",
       "    </tr>\n",
       "    <tr>\n",
       "      <th>764</th>\n",
       "      <td>0</td>\n",
       "      <td>2.0</td>\n",
       "      <td>122.0</td>\n",
       "      <td>70.0</td>\n",
       "      <td>27.0</td>\n",
       "      <td>0.0</td>\n",
       "      <td>368.0</td>\n",
       "      <td>34.0</td>\n",
       "      <td>27.0</td>\n",
       "      <td>0</td>\n",
       "    </tr>\n",
       "    <tr>\n",
       "      <th>765</th>\n",
       "      <td>2</td>\n",
       "      <td>5.0</td>\n",
       "      <td>121.0</td>\n",
       "      <td>72.0</td>\n",
       "      <td>23.0</td>\n",
       "      <td>112.0</td>\n",
       "      <td>262.0</td>\n",
       "      <td>245.0</td>\n",
       "      <td>30.0</td>\n",
       "      <td>0</td>\n",
       "    </tr>\n",
       "    <tr>\n",
       "      <th>766</th>\n",
       "      <td>0</td>\n",
       "      <td>1.0</td>\n",
       "      <td>126.0</td>\n",
       "      <td>60.0</td>\n",
       "      <td>0.0</td>\n",
       "      <td>0.0</td>\n",
       "      <td>301.0</td>\n",
       "      <td>349.0</td>\n",
       "      <td>47.0</td>\n",
       "      <td>1</td>\n",
       "    </tr>\n",
       "    <tr>\n",
       "      <th>767</th>\n",
       "      <td>2</td>\n",
       "      <td>1.0</td>\n",
       "      <td>93.0</td>\n",
       "      <td>70.0</td>\n",
       "      <td>31.0</td>\n",
       "      <td>0.0</td>\n",
       "      <td>304.0</td>\n",
       "      <td>315.0</td>\n",
       "      <td>23.0</td>\n",
       "      <td>0</td>\n",
       "    </tr>\n",
       "  </tbody>\n",
       "</table>\n",
       "<p>726 rows × 10 columns</p>\n",
       "</div>"
      ],
      "text/plain": [
       "     Hair color  Pregnancies  Glucose  BloodPressure  SkinThickness  Insulin  \\\n",
       "0             2          6.0    148.0           72.0           35.0      0.0   \n",
       "1             0          1.0     85.0           66.0           29.0      0.0   \n",
       "2             2          8.0    183.0           64.0            0.0      0.0   \n",
       "3             0          1.0     89.0           66.0           23.0     94.0   \n",
       "4             0          0.0    137.0           40.0           35.0    168.0   \n",
       "..          ...          ...      ...            ...            ...      ...   \n",
       "763           0         10.0    101.0           76.0           48.0    180.0   \n",
       "764           0          2.0    122.0           70.0           27.0      0.0   \n",
       "765           2          5.0    121.0           72.0           23.0    112.0   \n",
       "766           0          1.0    126.0           60.0            0.0      0.0   \n",
       "767           2          1.0     93.0           70.0           31.0      0.0   \n",
       "\n",
       "       BMI  DiabetesPedigreeFunction   Age Outcome  \n",
       "0    336.0                     627.0  50.0       1  \n",
       "1    266.0                     351.0  31.0       0  \n",
       "2    233.0                     672.0  32.0       1  \n",
       "3    281.0                     167.0  21.0       0  \n",
       "4    431.0                    2288.0  33.0       1  \n",
       "..     ...                       ...   ...     ...  \n",
       "763  329.0                     171.0  63.0       0  \n",
       "764  368.0                      34.0  27.0       0  \n",
       "765  262.0                     245.0  30.0       0  \n",
       "766  301.0                     349.0  47.0       1  \n",
       "767  304.0                     315.0  23.0       0  \n",
       "\n",
       "[726 rows x 10 columns]"
      ]
     },
     "execution_count": 57,
     "metadata": {},
     "output_type": "execute_result"
    }
   ],
   "source": [
    "df"
   ]
  },
  {
   "cell_type": "code",
   "execution_count": null,
   "id": "ae8d183a-f48c-4e12-929b-911ad220ef59",
   "metadata": {},
   "outputs": [],
   "source": []
  }
 ],
 "metadata": {
  "kernelspec": {
   "display_name": "Python 3",
   "language": "python",
   "name": "python3"
  },
  "language_info": {
   "codemirror_mode": {
    "name": "ipython",
    "version": 3
   },
   "file_extension": ".py",
   "mimetype": "text/x-python",
   "name": "python",
   "nbconvert_exporter": "python",
   "pygments_lexer": "ipython3",
   "version": "3.8.8"
  }
 },
 "nbformat": 4,
 "nbformat_minor": 5
}
