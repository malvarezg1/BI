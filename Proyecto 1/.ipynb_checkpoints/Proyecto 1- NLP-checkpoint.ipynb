{
 "cells": [
  {
   "cell_type": "markdown",
   "metadata": {},
   "source": [
    "# Proyecto 1 - NLP"
   ]
  },
  {
   "cell_type": "markdown",
   "metadata": {},
   "source": [
    "## Revision de ___ en comentarios de libros "
   ]
  },
  {
   "cell_type": "markdown",
   "metadata": {},
   "source": [
    "#### Importación de librerias"
   ]
  },
  {
   "cell_type": "code",
   "execution_count": 1,
   "metadata": {},
   "outputs": [],
   "source": [
    "import pandas as pd\n",
    "import numpy as np\n",
    "import seaborn as sns\n",
    "import matplotlib.pyplot as plt\n",
    "\n",
    "import re\n",
    "\n",
    "from wordcloud import WordCloud, STOPWORDS\n",
    "\n",
    "#Librerias para sampling\n",
    "from sklearn.model_selection import train_test_split\n",
    "from sklearn.pipeline import Pipeline\n",
    "\n",
    "from sklearn.pipeline import Pipeline\n",
    "from sklearn.model_selection import GridSearchCV, RandomizedSearchCV\n",
    "from sklearn.ensemble import RandomForestClassifier\n",
    "from sklearn.model_selection import GridSearchCV, RandomizedSearchCV\n",
    "from sklearn.metrics import roc_auc_score, accuracy_score, confusion_matrix\n",
    "\n",
    "#Librerias para vectorizacion\n",
    "from sklearn.feature_extraction.text import TfidfVectorizer"
   ]
  },
  {
   "cell_type": "markdown",
   "metadata": {},
   "source": [
    "#### Importación de datos"
   ]
  },
  {
   "cell_type": "code",
   "execution_count": 2,
   "metadata": {
    "scrolled": false
   },
   "outputs": [],
   "source": [
    "data = pd. read_csv('data/reviews.csv')"
   ]
  },
  {
   "cell_type": "markdown",
   "metadata": {},
   "source": [
    "#### Preparación e los datos"
   ]
  },
  {
   "cell_type": "markdown",
   "metadata": {},
   "source": [
    "1. Se se paro la columna helpfull en dpos columnas. Las veces que se le dio helpfull postivo, y las veces totales que se le ha dado helpful"
   ]
  },
  {
   "cell_type": "code",
   "execution_count": 3,
   "metadata": {
    "scrolled": true
   },
   "outputs": [
    {
     "data": {
      "text/html": [
       "<div>\n",
       "<style scoped>\n",
       "    .dataframe tbody tr th:only-of-type {\n",
       "        vertical-align: middle;\n",
       "    }\n",
       "\n",
       "    .dataframe tbody tr th {\n",
       "        vertical-align: top;\n",
       "    }\n",
       "\n",
       "    .dataframe thead th {\n",
       "        text-align: right;\n",
       "    }\n",
       "</style>\n",
       "<table border=\"1\" class=\"dataframe\">\n",
       "  <thead>\n",
       "    <tr style=\"text-align: right;\">\n",
       "      <th></th>\n",
       "      <th>Unnamed: 0</th>\n",
       "      <th>asin</th>\n",
       "      <th>helpful</th>\n",
       "      <th>overall</th>\n",
       "      <th>reviewText</th>\n",
       "      <th>reviewTime</th>\n",
       "      <th>reviewerID</th>\n",
       "      <th>reviewerName</th>\n",
       "      <th>summary</th>\n",
       "      <th>unixReviewTime</th>\n",
       "      <th>Helpful Total</th>\n",
       "      <th>Helpful Positivo</th>\n",
       "    </tr>\n",
       "  </thead>\n",
       "  <tbody>\n",
       "    <tr>\n",
       "      <th>0</th>\n",
       "      <td>0</td>\n",
       "      <td>B000F83SZQ</td>\n",
       "      <td>[0, 0]</td>\n",
       "      <td>5</td>\n",
       "      <td>I enjoy vintage books and movies so I enjoyed ...</td>\n",
       "      <td>05 5, 2014</td>\n",
       "      <td>A1F6404F1VG29J</td>\n",
       "      <td>Avidreader</td>\n",
       "      <td>Nice vintage story</td>\n",
       "      <td>1399248000</td>\n",
       "      <td>0</td>\n",
       "      <td>0</td>\n",
       "    </tr>\n",
       "    <tr>\n",
       "      <th>1</th>\n",
       "      <td>1</td>\n",
       "      <td>B000F83SZQ</td>\n",
       "      <td>[2, 2]</td>\n",
       "      <td>4</td>\n",
       "      <td>This book is a reissue of an old one; the auth...</td>\n",
       "      <td>01 6, 2014</td>\n",
       "      <td>AN0N05A9LIJEQ</td>\n",
       "      <td>critters</td>\n",
       "      <td>Different...</td>\n",
       "      <td>1388966400</td>\n",
       "      <td>2</td>\n",
       "      <td>2</td>\n",
       "    </tr>\n",
       "    <tr>\n",
       "      <th>2</th>\n",
       "      <td>2</td>\n",
       "      <td>B000F83SZQ</td>\n",
       "      <td>[2, 2]</td>\n",
       "      <td>4</td>\n",
       "      <td>This was a fairly interesting read.  It had ol...</td>\n",
       "      <td>04 4, 2014</td>\n",
       "      <td>A795DMNCJILA6</td>\n",
       "      <td>dot</td>\n",
       "      <td>Oldie</td>\n",
       "      <td>1396569600</td>\n",
       "      <td>2</td>\n",
       "      <td>2</td>\n",
       "    </tr>\n",
       "    <tr>\n",
       "      <th>3</th>\n",
       "      <td>3</td>\n",
       "      <td>B000F83SZQ</td>\n",
       "      <td>[1, 1]</td>\n",
       "      <td>5</td>\n",
       "      <td>I'd never read any of the Amy Brewster mysteri...</td>\n",
       "      <td>02 19, 2014</td>\n",
       "      <td>A1FV0SX13TWVXQ</td>\n",
       "      <td>Elaine H. Turley \"Montana Songbird\"</td>\n",
       "      <td>I really liked it.</td>\n",
       "      <td>1392768000</td>\n",
       "      <td>1</td>\n",
       "      <td>1</td>\n",
       "    </tr>\n",
       "    <tr>\n",
       "      <th>4</th>\n",
       "      <td>4</td>\n",
       "      <td>B000F83SZQ</td>\n",
       "      <td>[0, 1]</td>\n",
       "      <td>4</td>\n",
       "      <td>If you like period pieces - clothing, lingo, y...</td>\n",
       "      <td>03 19, 2014</td>\n",
       "      <td>A3SPTOKDG7WBLN</td>\n",
       "      <td>Father Dowling Fan</td>\n",
       "      <td>Period Mystery</td>\n",
       "      <td>1395187200</td>\n",
       "      <td>1</td>\n",
       "      <td>0</td>\n",
       "    </tr>\n",
       "    <tr>\n",
       "      <th>...</th>\n",
       "      <td>...</td>\n",
       "      <td>...</td>\n",
       "      <td>...</td>\n",
       "      <td>...</td>\n",
       "      <td>...</td>\n",
       "      <td>...</td>\n",
       "      <td>...</td>\n",
       "      <td>...</td>\n",
       "      <td>...</td>\n",
       "      <td>...</td>\n",
       "      <td>...</td>\n",
       "      <td>...</td>\n",
       "    </tr>\n",
       "    <tr>\n",
       "      <th>982614</th>\n",
       "      <td>982614</td>\n",
       "      <td>B00M13FNSS</td>\n",
       "      <td>[2, 2]</td>\n",
       "      <td>5</td>\n",
       "      <td>Yasss hunny! This is a great read. That Dre is...</td>\n",
       "      <td>07 23, 2014</td>\n",
       "      <td>A2Y66HD4J5S7QZ</td>\n",
       "      <td>Candi</td>\n",
       "      <td>A Hot Read Indeed!!</td>\n",
       "      <td>1406073600</td>\n",
       "      <td>2</td>\n",
       "      <td>2</td>\n",
       "    </tr>\n",
       "    <tr>\n",
       "      <th>982615</th>\n",
       "      <td>982615</td>\n",
       "      <td>B00M13FNSS</td>\n",
       "      <td>[0, 0]</td>\n",
       "      <td>5</td>\n",
       "      <td>I ENJOYED THIS BOOK FROM BEGINNING TO END NOW ...</td>\n",
       "      <td>07 23, 2014</td>\n",
       "      <td>A17YHECC8H9NEY</td>\n",
       "      <td>Margie</td>\n",
       "      <td>VERY GOOD BOOK</td>\n",
       "      <td>1406073600</td>\n",
       "      <td>0</td>\n",
       "      <td>0</td>\n",
       "    </tr>\n",
       "    <tr>\n",
       "      <th>982616</th>\n",
       "      <td>982616</td>\n",
       "      <td>B00M13FNSS</td>\n",
       "      <td>[1, 1]</td>\n",
       "      <td>5</td>\n",
       "      <td>Great book! Cherika was a fool. She let that m...</td>\n",
       "      <td>07 23, 2014</td>\n",
       "      <td>A20KO0BPMNREJL</td>\n",
       "      <td>Nicki</td>\n",
       "      <td>Great Read</td>\n",
       "      <td>1406073600</td>\n",
       "      <td>1</td>\n",
       "      <td>1</td>\n",
       "    </tr>\n",
       "    <tr>\n",
       "      <th>982617</th>\n",
       "      <td>982617</td>\n",
       "      <td>B00M13FNSS</td>\n",
       "      <td>[0, 0]</td>\n",
       "      <td>5</td>\n",
       "      <td>When I say this was an excellent book please b...</td>\n",
       "      <td>07 23, 2014</td>\n",
       "      <td>A1BQO66R6OLCCW</td>\n",
       "      <td>Nikey</td>\n",
       "      <td>Wow!!</td>\n",
       "      <td>1406073600</td>\n",
       "      <td>0</td>\n",
       "      <td>0</td>\n",
       "    </tr>\n",
       "    <tr>\n",
       "      <th>982618</th>\n",
       "      <td>982618</td>\n",
       "      <td>B00M13FNSS</td>\n",
       "      <td>[2, 2]</td>\n",
       "      <td>5</td>\n",
       "      <td>This book was everything. I just hope Alexus w...</td>\n",
       "      <td>07 23, 2014</td>\n",
       "      <td>A2NRGE3CSFY2TQ</td>\n",
       "      <td>Yo</td>\n",
       "      <td>Great read.hands down #5star hit</td>\n",
       "      <td>1406073600</td>\n",
       "      <td>2</td>\n",
       "      <td>2</td>\n",
       "    </tr>\n",
       "  </tbody>\n",
       "</table>\n",
       "<p>982619 rows × 12 columns</p>\n",
       "</div>"
      ],
      "text/plain": [
       "        Unnamed: 0        asin helpful  overall  \\\n",
       "0                0  B000F83SZQ  [0, 0]        5   \n",
       "1                1  B000F83SZQ  [2, 2]        4   \n",
       "2                2  B000F83SZQ  [2, 2]        4   \n",
       "3                3  B000F83SZQ  [1, 1]        5   \n",
       "4                4  B000F83SZQ  [0, 1]        4   \n",
       "...            ...         ...     ...      ...   \n",
       "982614      982614  B00M13FNSS  [2, 2]        5   \n",
       "982615      982615  B00M13FNSS  [0, 0]        5   \n",
       "982616      982616  B00M13FNSS  [1, 1]        5   \n",
       "982617      982617  B00M13FNSS  [0, 0]        5   \n",
       "982618      982618  B00M13FNSS  [2, 2]        5   \n",
       "\n",
       "                                               reviewText   reviewTime  \\\n",
       "0       I enjoy vintage books and movies so I enjoyed ...   05 5, 2014   \n",
       "1       This book is a reissue of an old one; the auth...   01 6, 2014   \n",
       "2       This was a fairly interesting read.  It had ol...   04 4, 2014   \n",
       "3       I'd never read any of the Amy Brewster mysteri...  02 19, 2014   \n",
       "4       If you like period pieces - clothing, lingo, y...  03 19, 2014   \n",
       "...                                                   ...          ...   \n",
       "982614  Yasss hunny! This is a great read. That Dre is...  07 23, 2014   \n",
       "982615  I ENJOYED THIS BOOK FROM BEGINNING TO END NOW ...  07 23, 2014   \n",
       "982616  Great book! Cherika was a fool. She let that m...  07 23, 2014   \n",
       "982617  When I say this was an excellent book please b...  07 23, 2014   \n",
       "982618  This book was everything. I just hope Alexus w...  07 23, 2014   \n",
       "\n",
       "            reviewerID                         reviewerName  \\\n",
       "0       A1F6404F1VG29J                           Avidreader   \n",
       "1        AN0N05A9LIJEQ                             critters   \n",
       "2        A795DMNCJILA6                                  dot   \n",
       "3       A1FV0SX13TWVXQ  Elaine H. Turley \"Montana Songbird\"   \n",
       "4       A3SPTOKDG7WBLN                   Father Dowling Fan   \n",
       "...                ...                                  ...   \n",
       "982614  A2Y66HD4J5S7QZ                                Candi   \n",
       "982615  A17YHECC8H9NEY                               Margie   \n",
       "982616  A20KO0BPMNREJL                                Nicki   \n",
       "982617  A1BQO66R6OLCCW                                Nikey   \n",
       "982618  A2NRGE3CSFY2TQ                                   Yo   \n",
       "\n",
       "                                 summary  unixReviewTime  Helpful Total  \\\n",
       "0                     Nice vintage story      1399248000              0   \n",
       "1                           Different...      1388966400              2   \n",
       "2                                  Oldie      1396569600              2   \n",
       "3                     I really liked it.      1392768000              1   \n",
       "4                         Period Mystery      1395187200              1   \n",
       "...                                  ...             ...            ...   \n",
       "982614               A Hot Read Indeed!!      1406073600              2   \n",
       "982615                    VERY GOOD BOOK      1406073600              0   \n",
       "982616                        Great Read      1406073600              1   \n",
       "982617                             Wow!!      1406073600              0   \n",
       "982618  Great read.hands down #5star hit      1406073600              2   \n",
       "\n",
       "        Helpful Positivo  \n",
       "0                      0  \n",
       "1                      2  \n",
       "2                      2  \n",
       "3                      1  \n",
       "4                      0  \n",
       "...                  ...  \n",
       "982614                 2  \n",
       "982615                 0  \n",
       "982616                 1  \n",
       "982617                 0  \n",
       "982618                 2  \n",
       "\n",
       "[982619 rows x 12 columns]"
      ]
     },
     "execution_count": 3,
     "metadata": {},
     "output_type": "execute_result"
    }
   ],
   "source": [
    "data['Helpful Total'] = data['helpful'].str.replace(\"[\",\"\")\n",
    "data['Helpful Total'] = data['Helpful Total'].str.replace(\"]\",\"\")\n",
    "separacion = data['Helpful Total'].str.split(\",\",expand=True)\n",
    "data['Helpful Total']=separacion[1].astype(int)\n",
    "data['Helpful Positivo']=separacion[0].astype(int)\n",
    "data"
   ]
  },
  {
   "cell_type": "markdown",
   "metadata": {},
   "source": [
    "2. Se omiteron los regitso que no han sido calificados helpfull ninguna vezy se calculo la tasa de positividad"
   ]
  },
  {
   "cell_type": "code",
   "execution_count": 4,
   "metadata": {
    "scrolled": true
   },
   "outputs": [
    {
     "name": "stderr",
     "output_type": "stream",
     "text": [
      "<ipython-input-4-44ad27246076>:3: SettingWithCopyWarning: \n",
      "A value is trying to be set on a copy of a slice from a DataFrame.\n",
      "Try using .loc[row_indexer,col_indexer] = value instead\n",
      "\n",
      "See the caveats in the documentation: https://pandas.pydata.org/pandas-docs/stable/user_guide/indexing.html#returning-a-view-versus-a-copy\n",
      "  data['Helpful Rate'] = data['Helpful Positivo']/data['Helpful Total']\n"
     ]
    },
    {
     "data": {
      "text/html": [
       "<div>\n",
       "<style scoped>\n",
       "    .dataframe tbody tr th:only-of-type {\n",
       "        vertical-align: middle;\n",
       "    }\n",
       "\n",
       "    .dataframe tbody tr th {\n",
       "        vertical-align: top;\n",
       "    }\n",
       "\n",
       "    .dataframe thead th {\n",
       "        text-align: right;\n",
       "    }\n",
       "</style>\n",
       "<table border=\"1\" class=\"dataframe\">\n",
       "  <thead>\n",
       "    <tr style=\"text-align: right;\">\n",
       "      <th></th>\n",
       "      <th>Unnamed: 0</th>\n",
       "      <th>asin</th>\n",
       "      <th>helpful</th>\n",
       "      <th>overall</th>\n",
       "      <th>reviewText</th>\n",
       "      <th>reviewTime</th>\n",
       "      <th>reviewerID</th>\n",
       "      <th>reviewerName</th>\n",
       "      <th>summary</th>\n",
       "      <th>unixReviewTime</th>\n",
       "      <th>Helpful Total</th>\n",
       "      <th>Helpful Positivo</th>\n",
       "      <th>Helpful Rate</th>\n",
       "    </tr>\n",
       "  </thead>\n",
       "  <tbody>\n",
       "    <tr>\n",
       "      <th>1</th>\n",
       "      <td>1</td>\n",
       "      <td>B000F83SZQ</td>\n",
       "      <td>[2, 2]</td>\n",
       "      <td>4</td>\n",
       "      <td>This book is a reissue of an old one; the auth...</td>\n",
       "      <td>01 6, 2014</td>\n",
       "      <td>AN0N05A9LIJEQ</td>\n",
       "      <td>critters</td>\n",
       "      <td>Different...</td>\n",
       "      <td>1388966400</td>\n",
       "      <td>2</td>\n",
       "      <td>2</td>\n",
       "      <td>1.0</td>\n",
       "    </tr>\n",
       "    <tr>\n",
       "      <th>2</th>\n",
       "      <td>2</td>\n",
       "      <td>B000F83SZQ</td>\n",
       "      <td>[2, 2]</td>\n",
       "      <td>4</td>\n",
       "      <td>This was a fairly interesting read.  It had ol...</td>\n",
       "      <td>04 4, 2014</td>\n",
       "      <td>A795DMNCJILA6</td>\n",
       "      <td>dot</td>\n",
       "      <td>Oldie</td>\n",
       "      <td>1396569600</td>\n",
       "      <td>2</td>\n",
       "      <td>2</td>\n",
       "      <td>1.0</td>\n",
       "    </tr>\n",
       "    <tr>\n",
       "      <th>3</th>\n",
       "      <td>3</td>\n",
       "      <td>B000F83SZQ</td>\n",
       "      <td>[1, 1]</td>\n",
       "      <td>5</td>\n",
       "      <td>I'd never read any of the Amy Brewster mysteri...</td>\n",
       "      <td>02 19, 2014</td>\n",
       "      <td>A1FV0SX13TWVXQ</td>\n",
       "      <td>Elaine H. Turley \"Montana Songbird\"</td>\n",
       "      <td>I really liked it.</td>\n",
       "      <td>1392768000</td>\n",
       "      <td>1</td>\n",
       "      <td>1</td>\n",
       "      <td>1.0</td>\n",
       "    </tr>\n",
       "    <tr>\n",
       "      <th>4</th>\n",
       "      <td>4</td>\n",
       "      <td>B000F83SZQ</td>\n",
       "      <td>[0, 1]</td>\n",
       "      <td>4</td>\n",
       "      <td>If you like period pieces - clothing, lingo, y...</td>\n",
       "      <td>03 19, 2014</td>\n",
       "      <td>A3SPTOKDG7WBLN</td>\n",
       "      <td>Father Dowling Fan</td>\n",
       "      <td>Period Mystery</td>\n",
       "      <td>1395187200</td>\n",
       "      <td>1</td>\n",
       "      <td>0</td>\n",
       "      <td>0.0</td>\n",
       "    </tr>\n",
       "    <tr>\n",
       "      <th>7</th>\n",
       "      <td>7</td>\n",
       "      <td>B000F83SZQ</td>\n",
       "      <td>[1, 1]</td>\n",
       "      <td>4</td>\n",
       "      <td>Never heard of Amy Brewster. But I don't need ...</td>\n",
       "      <td>03 22, 2014</td>\n",
       "      <td>A3DE6XGZ2EPADS</td>\n",
       "      <td>WPY</td>\n",
       "      <td>Enjoyable reading and reminding the old times</td>\n",
       "      <td>1395446400</td>\n",
       "      <td>1</td>\n",
       "      <td>1</td>\n",
       "      <td>1.0</td>\n",
       "    </tr>\n",
       "  </tbody>\n",
       "</table>\n",
       "</div>"
      ],
      "text/plain": [
       "   Unnamed: 0        asin helpful  overall  \\\n",
       "1           1  B000F83SZQ  [2, 2]        4   \n",
       "2           2  B000F83SZQ  [2, 2]        4   \n",
       "3           3  B000F83SZQ  [1, 1]        5   \n",
       "4           4  B000F83SZQ  [0, 1]        4   \n",
       "7           7  B000F83SZQ  [1, 1]        4   \n",
       "\n",
       "                                          reviewText   reviewTime  \\\n",
       "1  This book is a reissue of an old one; the auth...   01 6, 2014   \n",
       "2  This was a fairly interesting read.  It had ol...   04 4, 2014   \n",
       "3  I'd never read any of the Amy Brewster mysteri...  02 19, 2014   \n",
       "4  If you like period pieces - clothing, lingo, y...  03 19, 2014   \n",
       "7  Never heard of Amy Brewster. But I don't need ...  03 22, 2014   \n",
       "\n",
       "       reviewerID                         reviewerName  \\\n",
       "1   AN0N05A9LIJEQ                             critters   \n",
       "2   A795DMNCJILA6                                  dot   \n",
       "3  A1FV0SX13TWVXQ  Elaine H. Turley \"Montana Songbird\"   \n",
       "4  A3SPTOKDG7WBLN                   Father Dowling Fan   \n",
       "7  A3DE6XGZ2EPADS                                  WPY   \n",
       "\n",
       "                                         summary  unixReviewTime  \\\n",
       "1                                   Different...      1388966400   \n",
       "2                                          Oldie      1396569600   \n",
       "3                             I really liked it.      1392768000   \n",
       "4                                 Period Mystery      1395187200   \n",
       "7  Enjoyable reading and reminding the old times      1395446400   \n",
       "\n",
       "   Helpful Total  Helpful Positivo  Helpful Rate  \n",
       "1              2                 2           1.0  \n",
       "2              2                 2           1.0  \n",
       "3              1                 1           1.0  \n",
       "4              1                 0           0.0  \n",
       "7              1                 1           1.0  "
      ]
     },
     "execution_count": 4,
     "metadata": {},
     "output_type": "execute_result"
    }
   ],
   "source": [
    "# Filtar los reviws que no han sido clasificados como helpful\n",
    "data = data[data[\"Helpful Total\"] >0 ]\n",
    "data['Helpful Rate'] = data['Helpful Positivo']/data['Helpful Total']\n",
    "data.head()"
   ]
  },
  {
   "cell_type": "markdown",
   "metadata": {},
   "source": [
    "#### Análisis de los datos"
   ]
  },
  {
   "cell_type": "markdown",
   "metadata": {},
   "source": [
    " Distribución de la tasa de postividad en helpfull"
   ]
  },
  {
   "cell_type": "code",
   "execution_count": 5,
   "metadata": {},
   "outputs": [
    {
     "data": {
      "image/png": "[encoded data removed]",
      "text/plain": [
       "<Figure size 360x360 with 1 Axes>"
      ]
     },
     "metadata": {
      "needs_background": "light"
     },
     "output_type": "display_data"
    }
   ],
   "source": [
    "sns.displot(data[\"Helpful Rate\"],bins = 10).set(title=\"Distribución del helpful rate\");"
   ]
  },
  {
   "cell_type": "markdown",
   "metadata": {},
   "source": [
    "#### Definición  de la vriable de salida"
   ]
  },
  {
   "cell_type": "code",
   "execution_count": 10,
   "metadata": {},
   "outputs": [
    {
     "name": "stderr",
     "output_type": "stream",
     "text": [
      "<ipython-input-10-7430b915376c>:1: SettingWithCopyWarning: \n",
      "A value is trying to be set on a copy of a slice from a DataFrame.\n",
      "Try using .loc[row_indexer,col_indexer] = value instead\n",
      "\n",
      "See the caveats in the documentation: https://pandas.pydata.org/pandas-docs/stable/user_guide/indexing.html#returning-a-view-versus-a-copy\n",
      "  data[\"Output\"] = np.where(data[\"Helpful Rate\"] >= 0.9,1, 0)\n"
     ]
    },
    {
     "data": {
      "image/png": "[encoded data removed]",
      "text/plain": [
       "<Figure size 432x288 with 1 Axes>"
      ]
     },
     "metadata": {
      "needs_background": "light"
     },
     "output_type": "display_data"
    }
   ],
   "source": [
    "data[\"Output\"] = np.where(data[\"Helpful Rate\"] >= 0.9,1, 0)\n",
    "sns.countplot(x=\"Output\", data=data);"
   ]
  },
  {
   "cell_type": "markdown",
   "metadata": {},
   "source": [
    "#### Dataframe NLP "
   ]
  },
  {
   "cell_type": "code",
   "execution_count": null,
   "metadata": {
    "scrolled": false
   },
   "outputs": [],
   "source": [
    "df = data[[\"Output\", \"reviewText\"]]\n",
    "df = df.reset_index()\n",
    "df = df.drop(columns=[\"index\"])\n",
    "df.head()"
   ]
  },
  {
   "cell_type": "markdown",
   "metadata": {},
   "source": [
    "#### Procesamiento de datos"
   ]
  },
  {
   "cell_type": "code",
   "execution_count": null,
   "metadata": {},
   "outputs": [],
   "source": [
    "import string\n",
    "import emoji\n",
    "from spacy.lang.en.stop_words import STOP_WORDS\n",
    "from spacy.lang.en import English\n",
    "import en_core_web_sm\n",
    "import unidecode\n",
    "import unicodedata"
   ]
  },
  {
   "cell_type": "code",
   "execution_count": null,
   "metadata": {},
   "outputs": [],
   "source": [
    "# Puntucacion\n",
    "punctuations = string.punctuation\n",
    "# Carga los modelos de spacy y las stopwords\n",
    "parser = en_core_web_sm.load()\n",
    "stop_words = STOP_WORDS"
   ]
  },
  {
   "cell_type": "code",
   "execution_count": null,
   "metadata": {},
   "outputs": [],
   "source": [
    "def clean_text(text):\n",
    "    # Elimina espacios, emojis, números y convierte todo a minúscula.\n",
    "    text = str(text)\n",
    "    text = text.replace('\\n','').replace('\\r','').replace('\\t','').strip().lower()\n",
    "    text = re.sub(r'\\d+', '', text)\n",
    "    allchars = [str for str in text] \n",
    "    emoji_list = [c for c in allchars if c in emoji.UNICODE_EMOJI]\n",
    "    text = ' '.join([str for str in text.split() if not any(i in str for i in emoji_list)])\n",
    "    text=''.join((c for c in unicodedata.normalize('NFD',text) if unicodedata.category(c) != 'Mn'))\n",
    "    text = re.sub('[^0-9a-zA-Z]+', ' ', text)\n",
    "    # Tokenize\n",
    "    token = parser(text)\n",
    "    # Lemmatize\n",
    "    token = [word.lemma_.lower().strip() if word.lemma_ != \"-PRON-\" else word.lower_ for word in token]\n",
    "    # Quita stopwords y signos de puntuación\n",
    "    token = ' '.join([word for word in token if word not in stop_words and word not in punctuations])\n",
    "    token = unidecode.unidecode(token)\n",
    "    token = ' '.join([w for w in token.split() if len(w)>1])\n",
    "    return token"
   ]
  },
  {
   "cell_type": "code",
   "execution_count": null,
   "metadata": {
    "scrolled": true
   },
   "outputs": [],
   "source": [
    "df[\"CleanText\"]=df[\"reviewText\"].apply(clean_text)\n",
    "df.head(10)"
   ]
  },
  {
   "cell_type": "code",
   "execution_count": null,
   "metadata": {},
   "outputs": [],
   "source": [
    "df =df.drop(columns=\"reviewText\")\n",
    "df.to_csv(\"dataNLP.csv\")"
   ]
  },
  {
   "cell_type": "markdown",
   "metadata": {},
   "source": [
    "#### Exploración"
   ]
  },
  {
   "cell_type": "code",
   "execution_count": null,
   "metadata": {},
   "outputs": [],
   "source": [
    "plt.figure(figsize=(14,7))\n",
    "positive_text = ''.join(df[df['Output'] == 1].CleanText)\n",
    "word_cloud = WordCloud(stopwords = STOPWORDS, max_words = 100, width=1366, height=768, background_color=\"white\").generate(positive_text)\n",
    "plt.imshow(word_cloud, interpolation='bilinear')\n",
    "plt.axis('off')\n",
    "plt.title('Word cloud de comentarios postivos',fontsize=20)\n",
    "plt.show()"
   ]
  },
  {
   "cell_type": "code",
   "execution_count": null,
   "metadata": {
    "scrolled": true
   },
   "outputs": [],
   "source": [
    "plt.figure(figsize=(14,7))\n",
    "negative_text = ''.join(str(df[df['Output'] == 0].CleanText))\n",
    "word_cloud = WordCloud(stopwords = STOPWORDS, max_words = 100, width=1366, height=768, background_color=\"white\").generate(negative_text)\n",
    "plt.imshow(word_cloud, interpolation='bilinear')\n",
    "plt.axis('off')\n",
    "plt.title('Word cloud de comentarios negativos',fontsize=20)\n",
    "plt.show()"
   ]
  },
  {
   "cell_type": "markdown",
   "metadata": {},
   "source": [
    "#### Conversión a vectores"
   ]
  },
  {
   "cell_type": "markdown",
   "metadata": {},
   "source": [
    "Importación del nuevo dataset. Solo se toman  50000 registros porque si no es muy pesado para crear lasm atrices y ajustar el modelo.  "
   ]
  },
  {
   "cell_type": "code",
   "execution_count": 3,
   "metadata": {},
   "outputs": [],
   "source": [
    "df =pd.read_csv('dataNLP.csv', index_col=0)\n",
    "df=df.dropna()\n",
    "df=df.iloc[0:50000]"
   ]
  },
  {
   "cell_type": "markdown",
   "metadata": {},
   "source": [
    "Se separa la muestra 90% train y 10% test"
   ]
  },
  {
   "cell_type": "code",
   "execution_count": 7,
   "metadata": {},
   "outputs": [],
   "source": [
    "Y = df[\"Output\"]\n",
    "X = df[\"CleanText\"]\n",
    "x_train, x_test, y_train, y_test = train_test_split(X, Y, test_size = 0.1, random_state = 42)"
   ]
  },
  {
   "cell_type": "markdown",
   "metadata": {},
   "source": [
    "Se codifican las matrices bajo el algoritmo TF_IDF. Solo se incluyen las ppalabras que están más de 50 veces en el dataframe para evitar palabras no significativas. "
   ]
  },
  {
   "cell_type": "code",
   "execution_count": 8,
   "metadata": {},
   "outputs": [],
   "source": [
    "tfidf_vectorizer = TfidfVectorizer(min_df = 50)\n",
    "\n",
    "x_train_vect = tfidf_vectorizer.fit_transform(x_train).toarray()\n",
    "x_test_vect = tfidf_vectorizer.transform(x_test).toarray()"
   ]
  },
  {
   "cell_type": "code",
   "execution_count": 9,
   "metadata": {},
   "outputs": [
    {
     "data": {
      "text/plain": [
       "(45000, 4280)"
      ]
     },
     "execution_count": 9,
     "metadata": {},
     "output_type": "execute_result"
    }
   ],
   "source": [
    "x_train_vect.shape"
   ]
  },
  {
   "cell_type": "markdown",
   "metadata": {},
   "source": [
    "#### Modelo Random Forest con represntación TF - IDF "
   ]
  },
  {
   "cell_type": "markdown",
   "metadata": {},
   "source": [
    "Se crea un Pipeline con un modelo RanfomForest que se calibra por medio de  RandomSearchCV para encontrar los hiperparámetros que minimizan el error."
   ]
  },
  {
   "cell_type": "code",
   "execution_count": 10,
   "metadata": {},
   "outputs": [],
   "source": [
    "Pipeline_RF = Pipeline(steps = [(\"RF\", RandomForestClassifier())])\n",
    "\n",
    "Param_RF = {\n",
    "    'RF__max_depth': np.linspace(1, 20, 20, endpoint=True),\n",
    "    'RF__max_features': ['auto','log2','sqrt',None],\n",
    "    'RF__min_samples_split':np.linspace(0.1, 1.0, 10, endpoint=True),\n",
    "    'RF__min_samples_leaf':np.linspace(0.1, 0.5, 5, endpoint=True)  \n",
    "}\n",
    "\n",
    "Grid_RF = RandomizedSearchCV(estimator = Pipeline_RF, param_distributions = Param_RF, scoring = 'accuracy', cv = 5, n_iter = 100, n_jobs = -1)"
   ]
  },
  {
   "cell_type": "code",
   "execution_count": 11,
   "metadata": {},
   "outputs": [
    {
     "name": "stdout",
     "output_type": "stream",
     "text": [
      "Mejores Parametros: {'RF__min_samples_split': 0.2, 'RF__min_samples_leaf': 0.5, 'RF__max_features': None, 'RF__max_depth': 16.0}\n",
      "Mejor AUC en Train: 0.592\n"
     ]
    }
   ],
   "source": [
    "Grid_RF.fit(x_train_vect,y_train)\n",
    "print('Mejores Parametros: %s' % Grid_RF.best_params_)\n",
    "print('Mejor AUC en Train: %.3f' % Grid_RF.best_score_)"
   ]
  },
  {
   "cell_type": "markdown",
   "metadata": {},
   "source": [
    "##### Resulatados del modelo "
   ]
  },
  {
   "cell_type": "code",
   "execution_count": 13,
   "metadata": {
    "scrolled": true
   },
   "outputs": [
    {
     "name": "stdout",
     "output_type": "stream",
     "text": [
      "La precisión del modelo Random Forest con TF- IDF  calibrado es: 0.59\n",
      "El AUC del modelo Random Forest con TF- IDF calibrado es: 0.50\n"
     ]
    }
   ],
   "source": [
    "y_pred = Grid_RF.best_estimator_.predict(x_test_vect)\n",
    "y_pred_proba = Grid_RF.best_estimator_.predict_proba(x_test_vect)[:,1]\n",
    "print('La precisión del modelo Random Forest con TF- IDF  calibrado es:', '{:.2f}'.format(accuracy_score(y_test, y_pred)))\n",
    "print('El AUC del modelo Random Forest con TF- IDF calibrado es:', '{:.2f}'.format(roc_auc_score(y_test, y_pred_proba)))"
   ]
  },
  {
   "cell_type": "markdown",
   "metadata": {},
   "source": [
    "####  Modelo 2"
   ]
  },
  {
   "cell_type": "code",
   "execution_count": null,
   "metadata": {},
   "outputs": [],
   "source": []
  },
  {
   "cell_type": "code",
   "execution_count": null,
   "metadata": {},
   "outputs": [],
   "source": []
  },
  {
   "cell_type": "markdown",
   "metadata": {},
   "source": [
    "####  Modelo 3"
   ]
  }
 ],
 "metadata": {
  "kernelspec": {
   "display_name": "Python 3",
   "language": "python",
   "name": "python3"
  },
  "language_info": {
   "codemirror_mode": {
    "name": "ipython",
    "version": 3
   },
   "file_extension": ".py",
   "mimetype": "text/x-python",
   "name": "python",
   "nbconvert_exporter": "python",
   "pygments_lexer": "ipython3",
   "version": "3.8.5"
  }
 },
 "nbformat": 4,
 "nbformat_minor": 4
}
