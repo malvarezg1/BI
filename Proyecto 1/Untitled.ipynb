{
 "cells": [
  {
   "cell_type": "code",
   "execution_count": 3,
   "id": "efe456ca",
   "metadata": {},
   "outputs": [
    {
     "name": "stdout",
     "output_type": "stream",
     "text": [
      "Collecting pycocotools==2.0.0"
     ]
    },
    {
     "name": "stderr",
     "output_type": "stream",
     "text": [
      "  ERROR: Command errored out with exit status 1:\n",
      "   command: 'C:\\Users\\m.alvarezg1\\anaconda3\\python.exe' -u -c 'import sys, setuptools, tokenize; sys.argv[0] = '\"'\"'C:\\\\Users\\\\m.alvarezg1\\\\AppData\\\\Local\\\\Temp\\\\2\\\\pip-install-ri6b3edv\\\\pycocotools_b3b19e1351c04db1aba41309536ad0a0\\\\setup.py'\"'\"'; __file__='\"'\"'C:\\\\Users\\\\m.alvarezg1\\\\AppData\\\\Local\\\\Temp\\\\2\\\\pip-install-ri6b3edv\\\\pycocotools_b3b19e1351c04db1aba41309536ad0a0\\\\setup.py'\"'\"';f=getattr(tokenize, '\"'\"'open'\"'\"', open)(__file__);code=f.read().replace('\"'\"'\\r\\n'\"'\"', '\"'\"'\\n'\"'\"');f.close();exec(compile(code, __file__, '\"'\"'exec'\"'\"'))' bdist_wheel -d 'C:\\Users\\m.alvarezg1\\AppData\\Local\\Temp\\2\\pip-wheel-q73ppl5x'\n",
      "       cwd: C:\\Users\\m.alvarezg1\\AppData\\Local\\Temp\\2\\pip-install-ri6b3edv\\pycocotools_b3b19e1351c04db1aba41309536ad0a0\\\n",
      "  Complete output (17 lines):\n",
      "  C:\\Users\\m.alvarezg1\\anaconda3\\lib\\site-packages\\numpy\\_distributor_init.py:30: UserWarning: loaded more than 1 DLL from .libs:\n",
      "  C:\\Users\\m.alvarezg1\\anaconda3\\lib\\site-packages\\numpy\\.libs\\libopenblas.PYQHXLVVQ7VESDPUVUADXEVJOBGHJPAY.gfortran-win_amd64.dll\n",
      "  C:\\Users\\m.alvarezg1\\anaconda3\\lib\\site-packages\\numpy\\.libs\\libopenblas.XWYDX2IKJW2NMTWSFYNGFUWKQU3LYTCZ.gfortran-win_amd64.dll\n",
      "    warnings.warn(\"loaded more than 1 DLL from .libs:\"\n",
      "  running bdist_wheel\n",
      "  running build\n",
      "  running build_py\n",
      "  creating build\n",
      "  creating build\\lib.win-amd64-3.8\n",
      "  creating build\\lib.win-amd64-3.8\\pycocotools\n",
      "  copying pycocotools\\coco.py -> build\\lib.win-amd64-3.8\\pycocotools\n",
      "  copying pycocotools\\cocoeval.py -> build\\lib.win-amd64-3.8\\pycocotools\n",
      "  copying pycocotools\\mask.py -> build\\lib.win-amd64-3.8\\pycocotools\n",
      "  copying pycocotools\\__init__.py -> build\\lib.win-amd64-3.8\\pycocotools\n",
      "  running build_ext\n",
      "  building 'pycocotools._mask' extension\n",
      "  error: Microsoft Visual C++ 14.0 or greater is required. Get it with \"Microsoft C++ Build Tools\": https://visualstudio.microsoft.com/visual-cpp-build-tools/\n",
      "  ----------------------------------------\n",
      "  ERROR: Failed building wheel for pycocotools\n",
      "    ERROR: Command errored out with exit status 1:\n",
      "     command: 'C:\\Users\\m.alvarezg1\\anaconda3\\python.exe' -u -c 'import sys, setuptools, tokenize; sys.argv[0] = '\"'\"'C:\\\\Users\\\\m.alvarezg1\\\\AppData\\\\Local\\\\Temp\\\\2\\\\pip-install-ri6b3edv\\\\pycocotools_b3b19e1351c04db1aba41309536ad0a0\\\\setup.py'\"'\"'; __file__='\"'\"'C:\\\\Users\\\\m.alvarezg1\\\\AppData\\\\Local\\\\Temp\\\\2\\\\pip-install-ri6b3edv\\\\pycocotools_b3b19e1351c04db1aba41309536ad0a0\\\\setup.py'\"'\"';f=getattr(tokenize, '\"'\"'open'\"'\"', open)(__file__);code=f.read().replace('\"'\"'\\r\\n'\"'\"', '\"'\"'\\n'\"'\"');f.close();exec(compile(code, __file__, '\"'\"'exec'\"'\"'))' install --record 'C:\\Users\\m.alvarezg1\\AppData\\Local\\Temp\\2\\pip-record-23xx2mox\\install-record.txt' --single-version-externally-managed --compile --install-headers 'C:\\Users\\m.alvarezg1\\anaconda3\\Include\\pycocotools'\n",
      "         cwd: C:\\Users\\m.alvarezg1\\AppData\\Local\\Temp\\2\\pip-install-ri6b3edv\\pycocotools_b3b19e1351c04db1aba41309536ad0a0\\\n",
      "    Complete output (17 lines):\n",
      "    C:\\Users\\m.alvarezg1\\anaconda3\\lib\\site-packages\\numpy\\_distributor_init.py:30: UserWarning: loaded more than 1 DLL from .libs:\n",
      "    C:\\Users\\m.alvarezg1\\anaconda3\\lib\\site-packages\\numpy\\.libs\\libopenblas.PYQHXLVVQ7VESDPUVUADXEVJOBGHJPAY.gfortran-win_amd64.dll\n",
      "    C:\\Users\\m.alvarezg1\\anaconda3\\lib\\site-packages\\numpy\\.libs\\libopenblas.XWYDX2IKJW2NMTWSFYNGFUWKQU3LYTCZ.gfortran-win_amd64.dll\n",
      "      warnings.warn(\"loaded more than 1 DLL from .libs:\"\n",
      "    running install\n",
      "    running build\n",
      "    running build_py\n",
      "    creating build\n",
      "    creating build\\lib.win-amd64-3.8\n",
      "    creating build\\lib.win-amd64-3.8\\pycocotools\n",
      "    copying pycocotools\\coco.py -> build\\lib.win-amd64-3.8\\pycocotools\n",
      "    copying pycocotools\\cocoeval.py -> build\\lib.win-amd64-3.8\\pycocotools\n",
      "    copying pycocotools\\mask.py -> build\\lib.win-amd64-3.8\\pycocotools\n",
      "    copying pycocotools\\__init__.py -> build\\lib.win-amd64-3.8\\pycocotools\n",
      "    running build_ext\n",
      "    building 'pycocotools._mask' extension\n",
      "    error: Microsoft Visual C++ 14.0 or greater is required. Get it with \"Microsoft C++ Build Tools\": https://visualstudio.microsoft.com/visual-cpp-build-tools/\n",
      "    ----------------------------------------\n",
      "ERROR: Command errored out with exit status 1: 'C:\\Users\\m.alvarezg1\\anaconda3\\python.exe' -u -c 'import sys, setuptools, tokenize; sys.argv[0] = '\"'\"'C:\\\\Users\\\\m.alvarezg1\\\\AppData\\\\Local\\\\Temp\\\\2\\\\pip-install-ri6b3edv\\\\pycocotools_b3b19e1351c04db1aba41309536ad0a0\\\\setup.py'\"'\"'; __file__='\"'\"'C:\\\\Users\\\\m.alvarezg1\\\\AppData\\\\Local\\\\Temp\\\\2\\\\pip-install-ri6b3edv\\\\pycocotools_b3b19e1351c04db1aba41309536ad0a0\\\\setup.py'\"'\"';f=getattr(tokenize, '\"'\"'open'\"'\"', open)(__file__);code=f.read().replace('\"'\"'\\r\\n'\"'\"', '\"'\"'\\n'\"'\"');f.close();exec(compile(code, __file__, '\"'\"'exec'\"'\"'))' install --record 'C:\\Users\\m.alvarezg1\\AppData\\Local\\Temp\\2\\pip-record-23xx2mox\\install-record.txt' --single-version-externally-managed --compile --install-headers 'C:\\Users\\m.alvarezg1\\anaconda3\\Include\\pycocotools' Check the logs for full command output.\n"
     ]
    },
    {
     "name": "stdout",
     "output_type": "stream",
     "text": [
      "\n",
      "  Downloading pycocotools-2.0.0.tar.gz (1.5 MB)\n",
      "Building wheels for collected packages: pycocotools\n",
      "  Building wheel for pycocotools (setup.py): started\n",
      "  Building wheel for pycocotools (setup.py): finished with status 'error'\n",
      "  Running setup.py clean for pycocotools\n",
      "Failed to build pycocotools\n",
      "Installing collected packages: pycocotools\n",
      "    Running setup.py install for pycocotools: started\n",
      "    Running setup.py install for pycocotools: finished with status 'error'\n"
     ]
    }
   ],
   "source": [
    "!pip install pycocotools==2.0.0"
   ]
  },
  {
   "cell_type": "code",
   "execution_count": 1,
   "id": "7add0355",
   "metadata": {},
   "outputs": [
    {
     "name": "stderr",
     "output_type": "stream",
     "text": [
      "C:\\Users\\m.alvarezg1\\anaconda3\\lib\\site-packages\\numpy\\_distributor_init.py:30: UserWarning: loaded more than 1 DLL from .libs:\n",
      "C:\\Users\\m.alvarezg1\\anaconda3\\lib\\site-packages\\numpy\\.libs\\libopenblas.PYQHXLVVQ7VESDPUVUADXEVJOBGHJPAY.gfortran-win_amd64.dll\n",
      "C:\\Users\\m.alvarezg1\\anaconda3\\lib\\site-packages\\numpy\\.libs\\libopenblas.XWYDX2IKJW2NMTWSFYNGFUWKQU3LYTCZ.gfortran-win_amd64.dll\n",
      "  warnings.warn(\"loaded more than 1 DLL from .libs:\"\n"
     ]
    },
    {
     "data": {
      "text/plain": [
       "'1.21.2'"
      ]
     },
     "execution_count": 1,
     "metadata": {},
     "output_type": "execute_result"
    }
   ],
   "source": [
    "import numpy\n",
    "numpy.version.version"
   ]
  }
 ],
 "metadata": {
  "kernelspec": {
   "display_name": "Python 3 (ipykernel)",
   "language": "python",
   "name": "python3"
  },
  "language_info": {
   "codemirror_mode": {
    "name": "ipython",
    "version": 3
   },
   "file_extension": ".py",
   "mimetype": "text/x-python",
   "name": "python",
   "nbconvert_exporter": "python",
   "pygments_lexer": "ipython3",
   "version": "3.8.11"
  }
 },
 "nbformat": 4,
 "nbformat_minor": 5
}
