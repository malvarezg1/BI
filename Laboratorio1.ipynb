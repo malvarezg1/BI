{
 "cells": [
  {
   "cell_type": "code",
   "execution_count": 2,
   "id": "dbd47db9-0e28-4ab6-b714-557bf000b1b7",
   "metadata": {},
   "outputs": [],
   "source": [
    "#Librerías necesarias\n",
    "import pandas as pd\n",
    "pd.set_option('display.max_columns', 25) # Número máximo de columnas a mostrar\n",
    "pd.set_option('display.max_rows', 50) # Numero máximo de filas a mostar\n",
    "# Ranom seed\n",
    "import numpy as np\n",
    "np.random.seed(3301)\n",
    "\n",
    "# Seaborn\n",
    "import seaborn as sns \n",
    "\n",
    "# Matplolib\n",
    "%matplotlib inline\n",
    "import matplotlib.pyplot as plt"
   ]
  },
  {
   "cell_type": "code",
   "execution_count": 3,
   "id": "62abf91c-5d6a-4d49-bbae-f9bf8a0d53c9",
   "metadata": {},
   "outputs": [],
   "source": [
    "# Ubicacion de la base de datos\n",
    "db_location = \"data/202120_Laboratorio_1_datos_SaludAlpes_diagnosticos_dataset.csv\""
   ]
  },
  {
   "cell_type": "code",
   "execution_count": 4,
   "id": "55a02a15-448e-4960-89d5-7d6c9e4229bd",
   "metadata": {},
   "outputs": [],
   "source": [
    "# Leer los datos\n",
    "df = pd.read_csv(db_location, sep=\";\")"
   ]
  },
  {
   "cell_type": "code",
   "execution_count": 5,
   "id": "9ede3a27-e3f9-42a4-be5a-bdce8f3d1a4c",
   "metadata": {},
   "outputs": [
    {
     "data": {
      "text/plain": [
       "(768, 11)"
      ]
     },
     "execution_count": 5,
     "metadata": {},
     "output_type": "execute_result"
    }
   ],
   "source": [
    "# Dimensiones de los datos\n",
    "df.shape"
   ]
  },
  {
   "cell_type": "code",
   "execution_count": 6,
   "id": "f3bb8f3d-d8c3-427b-be76-b9e342d7c042",
   "metadata": {},
   "outputs": [
    {
     "data": {
      "text/plain": [
       "Hair color                  object\n",
       "Pregnancies                 object\n",
       "Glucose                     object\n",
       "City                        object\n",
       "BloodPressure               object\n",
       "SkinThickness               object\n",
       "Insulin                     object\n",
       "BMI                          int64\n",
       "DiabetesPedigreeFunction    object\n",
       "Age                          int64\n",
       "Outcome                     object\n",
       "dtype: object"
      ]
     },
     "execution_count": 6,
     "metadata": {},
     "output_type": "execute_result"
    }
   ],
   "source": [
    "df.dtypes"
   ]
  },
  {
   "cell_type": "code",
   "execution_count": 7,
   "id": "36c3f10c-960c-44e8-95a4-6e33e73247f9",
   "metadata": {},
   "outputs": [
    {
     "data": {
      "text/plain": [
       "Index(['BMI', 'Age'], dtype='object')"
      ]
     },
     "execution_count": 7,
     "metadata": {},
     "output_type": "execute_result"
    }
   ],
   "source": [
    "# Seleccionar las columnas numericas\n",
    "# Error: para comparar arreglos entrada a entrada hay que usar | y &\n",
    "#number_cols = df_tracks.dtypes[df_tracks.dtypes == np.int64 or df_tracks.dtypes == np.float64].index\n",
    "number_cols = df.dtypes[(df.dtypes == np.int64) | (df.dtypes == np.float64)].index\n",
    "number_cols = df.select_dtypes(include = ['int','float']).columns\n",
    "number_cols"
   ]
  },
  {
   "cell_type": "code",
   "execution_count": 8,
   "id": "3ff6122b-ca94-4c1e-be36-d6c353389dfd",
   "metadata": {},
   "outputs": [
    {
     "data": {
      "text/plain": [
       "array(['6', '1', '8', '0', '5', '3', '10', '2', '4', '7', '9', '11', '13',\n",
       "       '15', '17', '12', '14', '-'], dtype=object)"
      ]
     },
     "execution_count": 8,
     "metadata": {},
     "output_type": "execute_result"
    }
   ],
   "source": [
    "df[\"Pregnancies\"].unique()"
   ]
  },
  {
   "cell_type": "markdown",
   "id": "da784b8e-3c9f-4645-bf55-c7128c56ba62",
   "metadata": {},
   "source": [
    "Nos dimos cuenta que en las columnas, hay valores que deberían ser numéricos pero aparecen como objetos. En el caso de Pregnancies es porque hay valores que son '-' que en este caso asumiremos que son lo mismo que 0. "
   ]
  },
  {
   "cell_type": "code",
   "execution_count": 9,
   "id": "3c0b3fab-e3fe-45d9-a2e6-02218884a839",
   "metadata": {},
   "outputs": [
    {
     "data": {
      "text/plain": [
       "array([ 6,  1,  8,  0,  5,  3, 10,  2,  4,  7,  9, 11, 13, 15, 17, 12, 14])"
      ]
     },
     "execution_count": 9,
     "metadata": {},
     "output_type": "execute_result"
    }
   ],
   "source": [
    "df[\"Pregnancies\"] = df[\"Pregnancies\"].replace(\"-\",0)\n",
    "df[\"Pregnancies\"] = pd.to_numeric(df[\"Pregnancies\"])\n",
    "df[\"Pregnancies\"].unique()"
   ]
  },
  {
   "cell_type": "code",
   "execution_count": 10,
   "id": "2278a460-96a4-4998-9a28-5f25ed379966",
   "metadata": {},
   "outputs": [
    {
     "data": {
      "text/plain": [
       "array(['148', '85', '183', '89', '137', '116', '78', '115', '197', '125',\n",
       "       '110', '168', '139', '189', '166', '100', '118', '107', '103',\n",
       "       '126', '99', '196', '119', '143', '147', '97', '145', '117', '109',\n",
       "       '158', '88', '92', '122', '138', '102', '90', '111', '180', '133',\n",
       "       '106', '171', '159', '146', '71', '105', '101', '176', '150', '73',\n",
       "       '187', '84', '44', '141', '114', '95', '129', '79', '0', '62',\n",
       "       '131', '112', '113', '74', '83', '136', '80', '123', '81', '134',\n",
       "       '142', '144', '93', '163', '151', '96', '155', '76', '160', '124',\n",
       "       '162', '132', '120', '173', '170', '128', '108', '154', '57',\n",
       "       '156', '153', '188', '152', '104', '87', '75', '179', '130', '194',\n",
       "       '181', '135', '184', '140', '177', '164', '91', '165', '86', '193',\n",
       "       '191', '161', '167', '77', '182', '157', '178', '61', '98', '127',\n",
       "       '82', '72', '172', '94', '175', '195', '68', '186', '198', '121',\n",
       "       '-', '67', '174', '199', '56', '169', '149', '65', '190'],\n",
       "      dtype=object)"
      ]
     },
     "execution_count": 10,
     "metadata": {},
     "output_type": "execute_result"
    }
   ],
   "source": [
    "df[\"Glucose\"].unique()"
   ]
  },
  {
   "cell_type": "markdown",
   "id": "5ee4dfa1-dcf6-440d-8029-c8205d640ff1",
   "metadata": {},
   "source": [
    "Después de darnos "
   ]
  },
  {
   "cell_type": "code",
   "execution_count": 11,
   "id": "9a6c45bc-997c-48bf-98ad-d271de38517f",
   "metadata": {},
   "outputs": [],
   "source": [
    "df[\"Glucose\"] = pd.to_numeric(df[\"Glucose\"], errors = \"coerce\")"
   ]
  },
  {
   "cell_type": "code",
   "execution_count": 12,
   "id": "ee91fa4a-0649-4a35-b778-de324a5c0583",
   "metadata": {},
   "outputs": [
    {
     "data": {
      "text/plain": [
       "New York    767\n",
       "-             1\n",
       "Name: City, dtype: int64"
      ]
     },
     "execution_count": 12,
     "metadata": {},
     "output_type": "execute_result"
    }
   ],
   "source": [
    "df[\"City\"].value_counts()"
   ]
  },
  {
   "cell_type": "markdown",
   "id": "800ec0d3-1448-483e-a7ff-966b84fa6bb5",
   "metadata": {},
   "source": [
    "Tomamos la decisión de eliminar la columna de ciudad, ya que todos los valores son New York, y por lo tanto no es una columna con valores relevantes para el diagnóstico de pacientes con diabetes. "
   ]
  },
  {
   "cell_type": "code",
   "execution_count": 13,
   "id": "e1907111-368a-49fb-a44e-8c8f29af8a4b",
   "metadata": {},
   "outputs": [],
   "source": [
    "del df[\"City\"]"
   ]
  },
  {
   "cell_type": "code",
   "execution_count": 16,
   "id": "8b1f3426-a1e7-4dea-9eee-f6b325a373fa",
   "metadata": {},
   "outputs": [
    {
     "data": {
      "text/plain": [
       "array([ 72.,  66.,  64.,  40.,  74.,  50.,  nan,  70.,  96.,  92.,  80.,\n",
       "        60.,  84.,  30.,  88.,  90.,  94.,  76.,  82.,  75.,  58.,  78.,\n",
       "        68., 110.,  56.,  62.,  85.,  86.,  48.,  44.,  65., 108.,  55.,\n",
       "       122.,  54.,  52.,  98., 104.,  95.,  46., 102., 100.,  61.,  24.,\n",
       "        38., 106., 114.])"
      ]
     },
     "execution_count": 16,
     "metadata": {},
     "output_type": "execute_result"
    }
   ],
   "source": [
    "df[\"BloodPressure\"].unique()"
   ]
  },
  {
   "cell_type": "code",
   "execution_count": 15,
   "id": "0c1cd7d3-0394-42fc-b5c4-c3d8fcb9eaec",
   "metadata": {},
   "outputs": [],
   "source": [
    "df[\"BloodPressure\"] = pd.to_numeric(df[\"BloodPressure\"], errors = \"coerce\")\n",
    "df[\"BloodPressure\"] = df[\"BloodPressure\"].replace(0,np.nan)"
   ]
  },
  {
   "cell_type": "code",
   "execution_count": 18,
   "id": "ea1fda38-d3ae-4949-8d9b-ac0d6832e694",
   "metadata": {},
   "outputs": [
    {
     "data": {
      "text/plain": [
       "0     226\n",
       "32     31\n",
       "30     27\n",
       "27     23\n",
       "23     22\n",
       "     ... \n",
       "51      1\n",
       "-       1\n",
       "60      1\n",
       "56      1\n",
       "99      1\n",
       "Name: SkinThickness, Length: 52, dtype: int64"
      ]
     },
     "execution_count": 18,
     "metadata": {},
     "output_type": "execute_result"
    }
   ],
   "source": [
    "df[\"SkinThickness\"].value_counts()"
   ]
  },
  {
   "cell_type": "code",
   "execution_count": 21,
   "id": "104fce3a-7f96-4c98-903d-9b1f947dd04b",
   "metadata": {},
   "outputs": [
    {
     "data": {
      "text/plain": [
       "0      373\n",
       "105     11\n",
       "140      9\n",
       "130      9\n",
       "120      8\n",
       "      ... \n",
       "277      1\n",
       "326      1\n",
       "310      1\n",
       "84       1\n",
       "300      1\n",
       "Name: Insulin, Length: 187, dtype: int64"
      ]
     },
     "execution_count": 21,
     "metadata": {},
     "output_type": "execute_result"
    }
   ],
   "source": [
    "df[\"Insulin\"].value_counts()"
   ]
  },
  {
   "cell_type": "code",
   "execution_count": 22,
   "id": "d86cc02d-9bf1-413d-82da-7050bb8ef13b",
   "metadata": {},
   "outputs": [],
   "source": [
    "df[\"Insulin\"] = pd.to_numeric(df[\"Insulin\"], errors = \"coerce\")"
   ]
  },
  {
   "cell_type": "code",
   "execution_count": 24,
   "id": "ddfb1e64-dfbe-496e-869d-c3834f558362",
   "metadata": {},
   "outputs": [
    {
     "data": {
      "text/plain": [
       "array([  0.,  94., 168.,  88., 543., 846., 175., 230.,  83.,  96., 235.,\n",
       "       146., 115., 140., 110., 245.,  54., 192., 207.,  70., 240.,  82.,\n",
       "        36.,  23., 300., 342., 304., 142., 128.,  38., 100.,  90., 270.,\n",
       "        71., 125., 176.,  48.,  64., 228.,  76., 220.,  40., 152.,  18.,\n",
       "       135., 495.,  37.,  51.,  99., 145., 225.,  49.,  50.,  92., 325.,\n",
       "        63., 284., 119., 204., 155., 485.,  53., 114., 105., 285., 156.,\n",
       "        78., 130.,  55.,  58., 160., 210., 318.,  44., 190., 280.,  87.,\n",
       "       271., 129., 120., 478.,  56.,  32., 744., 370.,  45., 194., 680.,\n",
       "       402., 258., 375., 150.,  67.,  57., 116., 278., 122., 545.,  75.,\n",
       "        74., 182., 360., 215., 184.,  42., 132., 148., 180., 205.,  85.,\n",
       "       231.,  29.,  68.,  52., 255., 171.,  73., 108.,  43., 167., 249.,\n",
       "       293.,  66., 465.,  89., 158.,  84.,  72.,  59.,  81., 196., 415.,\n",
       "       275., 165., 579., 310.,  61., 474., 170., 277.,  60.,  14.,  95.,\n",
       "       237., 191., 328., 250., 480., 265., 193.,  79.,  86., 326., 188.,\n",
       "       106.,  65., 166., 274.,  77., 126., 330.,  nan, 600., 185.,  25.,\n",
       "        41., 272., 321., 144.,  15., 183.,  91.,  46., 440., 159., 540.,\n",
       "       200., 335., 387.,  22., 291., 392., 178., 127., 510.,  16., 112.])"
      ]
     },
     "execution_count": 24,
     "metadata": {},
     "output_type": "execute_result"
    }
   ],
   "source": [
    "df[\"Insulin\"].unique()"
   ]
  },
  {
   "cell_type": "code",
   "execution_count": 27,
   "id": "443858e8-fd7a-445c-8c76-d800ae27adda",
   "metadata": {},
   "outputs": [
    {
     "data": {
      "text/plain": [
       "32     13\n",
       "316    12\n",
       "312    12\n",
       "0      11\n",
       "324    10\n",
       "       ..\n",
       "311     1\n",
       "307     1\n",
       "303     1\n",
       "302     1\n",
       "671     1\n",
       "Name: BMI, Length: 248, dtype: int64"
      ]
     },
     "execution_count": 27,
     "metadata": {},
     "output_type": "execute_result"
    }
   ],
   "source": [
    "df[\"BMI\"].value_counts()"
   ]
  },
  {
   "cell_type": "code",
   "execution_count": null,
   "id": "37e09195-a10b-4d84-8319-395aeec11272",
   "metadata": {},
   "outputs": [],
   "source": []
  }
 ],
 "metadata": {
  "kernelspec": {
   "display_name": "Python 3",
   "language": "python",
   "name": "python3"
  },
  "language_info": {
   "codemirror_mode": {
    "name": "ipython",
    "version": 3
   },
   "file_extension": ".py",
   "mimetype": "text/x-python",
   "name": "python",
   "nbconvert_exporter": "python",
   "pygments_lexer": "ipython3",
   "version": "3.8.8"
  }
 },
 "nbformat": 4,
 "nbformat_minor": 5
}
